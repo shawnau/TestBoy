{
 "cells": [
  {
   "cell_type": "code",
   "execution_count": null,
   "metadata": {},
   "outputs": [],
   "source": [
    "import testboy\n",
    "# initialize settings from config.yaml\n",
    "testboy.config('config.yaml')"
   ]
  },
  {
   "cell_type": "markdown",
   "metadata": {},
   "source": [
    "# Write Unit Test"
   ]
  },
  {
   "cell_type": "code",
   "execution_count": null,
   "metadata": {},
   "outputs": [],
   "source": [
    "from testboy.session import Session\n",
    "# set input and output to paths of sample code\n",
    "Session(code_paths=['code_examples/CodeExample.cs']).execute([\n",
    "    \"Write unit tests for the code.\",\n",
    "    \"Format the tests.\",\n",
    "    \"Add comment for the tests.\"\n",
    "]).dump('code_examples/CodeExampleTest.cs')"
   ]
  },
  {
   "cell_type": "markdown",
   "metadata": {},
   "source": [
    "# Convert Moq to NSubstitute"
   ]
  },
  {
   "cell_type": "code",
   "execution_count": null,
   "metadata": {},
   "outputs": [],
   "source": [
    "from IPython.display import display, Markdown\n",
    "from testboy import io_utils\n",
    "# set input to raw code string\n",
    "input = io_utils.load_file('code_examples/MoqExample.cs')\n",
    "display(Markdown(f\"\"\"```csharp\\n{input}\\n```\"\"\"))"
   ]
  },
  {
   "cell_type": "code",
   "execution_count": null,
   "metadata": {},
   "outputs": [],
   "source": [
    "session = Session(raw_inputs=[input]).execute([\n",
    "    \"Replace Moq with NSubstitute for the code.\"\n",
    "])\n",
    "# output should be the converted code\n",
    "display(Markdown(f\"\"\"```csharp\\n{session.input}\\n```\"\"\"))"
   ]
  },
  {
   "cell_type": "markdown",
   "metadata": {},
   "source": [
    "# Query Documents"
   ]
  },
  {
   "cell_type": "code",
   "execution_count": null,
   "metadata": {},
   "outputs": [],
   "source": [
    "from testboy import settings\n",
    "# input asks for writing comments, so the context retried is about how to write comments.\n",
    "results = settings.chroma_collection.query(\n",
    "    query_texts=[\"Add comment for the tests.\"],\n",
    "    n_results=1,\n",
    "    include = [\"documents\"]\n",
    ")\n",
    "results['documents'][0]"
   ]
  }
 ],
 "metadata": {
  "kernelspec": {
   "display_name": "base",
   "language": "python",
   "name": "python3"
  },
  "language_info": {
   "codemirror_mode": {
    "name": "ipython",
    "version": 3
   },
   "file_extension": ".py",
   "mimetype": "text/x-python",
   "name": "python",
   "nbconvert_exporter": "python",
   "pygments_lexer": "ipython3",
   "version": "3.11.5"
  }
 },
 "nbformat": 4,
 "nbformat_minor": 2
}
